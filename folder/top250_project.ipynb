{
 "cells": [
  {
   "cell_type": "code",
   "execution_count": 20,
   "id": "cc8fd878",
   "metadata": {},
   "outputs": [],
   "source": [
    "#Чтобы получить список 250 фильмов на сайте Кинопоиска, нам необходима библиотека Requests - она позволяет делать запросы (те самые requests) и брать данные из интернета.\n",
    "import requests "
   ]
  },
  {
   "cell_type": "code",
   "execution_count": 21,
   "id": "9d569bc7",
   "metadata": {},
   "outputs": [],
   "source": [
    "url = 'https://www.kinopoisk.ru/lists/top250/' \n",
    "#Чтобы получить данные мы должны применить к адресу сайта метод библиотеки get. Чтобы узнать, какую именно информацию мы получили, можно применить опцию text... Но делать этого мы, конечно же, не будем (если честно, я попробовал выгрузить на гитхаб вариант с выводом кодом - он получился безумно большим).\n",
    "top = requests.get(url)"
   ]
  },
  {
   "cell_type": "code",
   "execution_count": 3,
   "id": "b488aa3a",
   "metadata": {},
   "outputs": [],
   "source": [
    "#Код получился нечитаемым (поверьте мне). Справиться с этим поможет другая библиотека, Beautifulsoup. Эта библиотека для извлечения данных из файлов HTML и XML. Она работает с библиотеками для парсинга, чтобы дать естественные способы навигации, поиска и изменения дерева разбора.\n",
    "from bs4 import BeautifulSoup"
   ]
  },
  {
   "cell_type": "code",
   "execution_count": 22,
   "id": "0c735a53",
   "metadata": {},
   "outputs": [],
   "source": [
    "#Мы должны передать библиотеке ответ, полученный с помощью Requests. Создадим переменную soup, передадим ей top.text и укажем необходимый формат (насколько я понял, наиболее быстрый и удобный - lxml)\n",
    "soup = BeautifulSoup(top.text, 'lxml') #Давайте и ее тоже не будем печатать"
   ]
  },
  {
   "cell_type": "code",
   "execution_count": 19,
   "id": "774e01b1",
   "metadata": {},
   "outputs": [
    {
     "name": "stdout",
     "output_type": "stream",
     "text": [
      "https://www.kinopoisk.ru//film/24705/\n"
     ]
    }
   ],
   "source": [
    "#Код упорядочен (честно пионерское), теги идут один за одним — теперь мы можем вынимать из кода то, что нам нужно. Для этого просмотрим и проанализируем код страницы \"Топ 250\". Анализ показывает, что карточки каждого из фильмов лежат в теге div. С помощью команды find (и get для получения ссылки на фильм) вытащим данные из первой карточки, а затем перепишем код так, чтобы он сработал на все фильмы со страницы.\n",
    "#Получаем ссылку на фильм. Она лежит в классе href (для него то и пригодится get), однако не полностью, поэтому добавим вначале адрес главной страницы сайта. \n",
    "link = 'https://www.kinopoisk.ru/'+soup.find('div', class_='desktop-rating-selection-film-item').find('a', class_='selection-film-item-meta__link').get('href')\n",
    "print(link)"
   ]
  },
  {
   "cell_type": "code",
   "execution_count": 6,
   "id": "6b627e15",
   "metadata": {},
   "outputs": [
    {
     "name": "stdout",
     "output_type": "stream",
     "text": [
      "Зеленая миля\n"
     ]
    }
   ],
   "source": [
    "#Вытаскиваем русское название фильма\n",
    "russian_name = soup.find('div', class_='desktop-rating-selection-film-item').find('a', class_='selection-film-item-meta__link').find('p', class_='selection-film-item-meta__name').text\n",
    "print(russian_name)"
   ]
  },
  {
   "cell_type": "code",
   "execution_count": 7,
   "id": "9521a5d4",
   "metadata": {},
   "outputs": [
    {
     "name": "stdout",
     "output_type": "stream",
     "text": [
      "Green Mile, The, 1999\n"
     ]
    }
   ],
   "source": [
    "#Забираем оригинальное название (для нас еще более важно, что в этом же теге располагается год выхода фильма)\n",
    "original_name = soup.find('div', class_='desktop-rating-selection-film-item').find('a', class_='selection-film-item-meta__link').find('p', class_='selection-film-item-meta__original-name').text\n",
    "print(original_name)"
   ]
  },
  {
   "cell_type": "code",
   "execution_count": 8,
   "id": "13998775",
   "metadata": {},
   "outputs": [
    {
     "name": "stdout",
     "output_type": "stream",
     "text": [
      "США\n"
     ]
    }
   ],
   "source": [
    "#Ищем страну-производителя фильма\n",
    "country = soup.find('div', class_='desktop-rating-selection-film-item').find('a', class_='selection-film-item-meta__link').find('span', class_='selection-film-item-meta__meta-additional-item').text\n",
    "print(country)"
   ]
  },
  {
   "cell_type": "code",
   "execution_count": 9,
   "id": "81330057",
   "metadata": {},
   "outputs": [
    {
     "name": "stdout",
     "output_type": "stream",
     "text": [
      "фэнтези, драма\n"
     ]
    }
   ],
   "source": [
    "#Жанр. В коде Кинопоиска страна и жанр имеют одинаковый класс selection-film-item-meta__meta-additional-item — а команда find находит только первое соответствие вашему запросу. Применим команду findAll, чтобы получить список.\n",
    "genre = soup.find('div', class_='desktop-rating-selection-film-item').find('a', class_='selection-film-item-meta__link').findAll('span', class_='selection-film-item-meta__meta-additional-item')[1].text\n",
    "print(genre)"
   ]
  },
  {
   "cell_type": "code",
   "execution_count": 10,
   "id": "fb10b3e6",
   "metadata": {},
   "outputs": [
    {
     "name": "stdout",
     "output_type": "stream",
     "text": [
      "8.9\n"
     ]
    }
   ],
   "source": [
    "#Рейтинг фильма на Кинопоиске\n",
    "rate = soup.find('div', class_='desktop-rating-selection-film-item').find('span', class_='rating__value rating__value_positive').text\n",
    " print(rate)"
   ]
  },
  {
   "cell_type": "code",
   "execution_count": 12,
   "id": "82a2c75a",
   "metadata": {},
   "outputs": [],
   "source": [
    "#Чтобы давать меньшую нагрузку на сервер, эксперты советуют импортировать из библиотеки time функцию sleep. Пытался запустить код без нее - получалось хуже.\n",
    "from time import sleep"
   ]
  },
  {
   "cell_type": "code",
   "execution_count": 13,
   "id": "1d2862dc",
   "metadata": {},
   "outputs": [
    {
     "name": "stdout",
     "output_type": "stream",
     "text": [
      "1\n",
      "2\n",
      "3\n",
      "4\n",
      "5\n"
     ]
    }
   ],
   "source": [
    "#Сделаем так, чтобы код работал для всех фильмов\n",
    "data = [] #переменную data, в который будем добавлять все переменные, которые запрашиваем.\n",
    "\n",
    "for p in range(1, 6): #Список топ-250 разбит на 5 страниц по 50 фильмов. Чтобы код прогрузил данные всех фильмов, создадим цикл, который будет последовательно просматривать страницы.\n",
    "    print(p)\n",
    "\n",
    "    url = f\"https://www.kinopoisk.ru/lists/top250/?page={p}&tab=all\" #В каждом цикле меняется номер страницы (в адресной строке она записаны как page=<2,3,4>)\n",
    "    top = requests.get(url)\n",
    "    sleep(7)\n",
    "    soup = BeautifulSoup(top.text, 'lxml')\n",
    "\n",
    "    films = soup.findAll('div', class_='desktop-rating-selection-film-item') #Создаем поиск всех фильмов с уже знакомой нам командой findAll.\n",
    "\n",
    "    for film in films:\n",
    "        link = 'https://www.kinopoisk.ru/'+film.find('a', class_='selection-film-item-meta__link').get('href')\n",
    "        russian_name = film.find('a', class_='selection-film-item-meta__link').find('p', class_='selection-film-item-meta__name').text\n",
    "        original_name = film.find('a', class_='selection-film-item-meta__link').find('p', class_='selection-film-item-meta__original-name').text\n",
    "        country = film.find('a', class_='selection-film-item-meta__link').find('span', class_='selection-film-item-meta__meta-additional-item').text\n",
    "        genre = film.find('a', class_='selection-film-item-meta__link').findAll('span', class_='selection-film-item-meta__meta-additional-item')[1].text\n",
    "        rate = film.find('span', class_='rating__value rating__value_positive').text\n",
    "        data.append([link, russian_name, original_name, country, genre, rate])"
   ]
  },
  {
   "cell_type": "code",
   "execution_count": 14,
   "id": "3f75007c",
   "metadata": {},
   "outputs": [
    {
     "data": {
      "text/plain": [
       "250"
      ]
     },
     "execution_count": 14,
     "metadata": {},
     "output_type": "execute_result"
    }
   ],
   "source": [
    "#Проверяем, все ли запрашиваемые данные загрузились... И усердно танцуем с бубном.\n",
    "len(data)"
   ]
  },
  {
   "cell_type": "code",
   "execution_count": 15,
   "id": "281ee855",
   "metadata": {},
   "outputs": [],
   "source": [
    "#Pandas - библиотека Python для анализа данных. Она позволяет работать с данными в табличном виде. В Pandas можно изучить набор данных, почистить его, внести изменения, проанализировать и сделать выводы, построить графики и многое другое. \n",
    "import pandas as pd"
   ]
  },
  {
   "cell_type": "code",
   "execution_count": 17,
   "id": "261b44c4",
   "metadata": {},
   "outputs": [
    {
     "data": {
      "text/html": [
       "<div>\n",
       "<style scoped>\n",
       "    .dataframe tbody tr th:only-of-type {\n",
       "        vertical-align: middle;\n",
       "    }\n",
       "\n",
       "    .dataframe tbody tr th {\n",
       "        vertical-align: top;\n",
       "    }\n",
       "\n",
       "    .dataframe thead th {\n",
       "        text-align: right;\n",
       "    }\n",
       "</style>\n",
       "<table border=\"1\" class=\"dataframe\">\n",
       "  <thead>\n",
       "    <tr style=\"text-align: right;\">\n",
       "      <th></th>\n",
       "      <th>Ссылка</th>\n",
       "      <th>Русское название</th>\n",
       "      <th>Оригинальное название, год</th>\n",
       "      <th>Страна</th>\n",
       "      <th>Жанр</th>\n",
       "      <th>Рейтинг</th>\n",
       "    </tr>\n",
       "  </thead>\n",
       "  <tbody>\n",
       "    <tr>\n",
       "      <th>0</th>\n",
       "      <td>https://www.kinopoisk.ru//film/435/</td>\n",
       "      <td>Зеленая миля</td>\n",
       "      <td>Green Mile, The, 1999</td>\n",
       "      <td>США</td>\n",
       "      <td>фэнтези, драма</td>\n",
       "      <td>8.9</td>\n",
       "    </tr>\n",
       "    <tr>\n",
       "      <th>1</th>\n",
       "      <td>https://www.kinopoisk.ru//film/326/</td>\n",
       "      <td>Побег из Шоушенка</td>\n",
       "      <td>Shawshank Redemption, The, 1994</td>\n",
       "      <td>США</td>\n",
       "      <td>драма</td>\n",
       "      <td>8.9</td>\n",
       "    </tr>\n",
       "    <tr>\n",
       "      <th>2</th>\n",
       "      <td>https://www.kinopoisk.ru//film/3498/</td>\n",
       "      <td>Властелин колец: Возвращение короля</td>\n",
       "      <td>Lord of the Rings: The Return of the King, The...</td>\n",
       "      <td>Новая Зеландия, США</td>\n",
       "      <td>фэнтези, приключения</td>\n",
       "      <td>8.8</td>\n",
       "    </tr>\n",
       "    <tr>\n",
       "      <th>3</th>\n",
       "      <td>https://www.kinopoisk.ru//film/312/</td>\n",
       "      <td>Властелин колец: Две крепости</td>\n",
       "      <td>Lord of the Rings: The Two Towers, The, 2002</td>\n",
       "      <td>Новая Зеландия, США</td>\n",
       "      <td>фэнтези, приключения</td>\n",
       "      <td>8.8</td>\n",
       "    </tr>\n",
       "    <tr>\n",
       "      <th>4</th>\n",
       "      <td>https://www.kinopoisk.ru//film/328/</td>\n",
       "      <td>Властелин колец: Братство Кольца</td>\n",
       "      <td>Lord of the Rings: The Fellowship of the Ring,...</td>\n",
       "      <td>Новая Зеландия, США</td>\n",
       "      <td>фэнтези, приключения</td>\n",
       "      <td>8.8</td>\n",
       "    </tr>\n",
       "    <tr>\n",
       "      <th>...</th>\n",
       "      <td>...</td>\n",
       "      <td>...</td>\n",
       "      <td>...</td>\n",
       "      <td>...</td>\n",
       "      <td>...</td>\n",
       "      <td>...</td>\n",
       "    </tr>\n",
       "    <tr>\n",
       "      <th>245</th>\n",
       "      <td>https://www.kinopoisk.ru//film/770973/</td>\n",
       "      <td>Вселенная Стивена Хокинга</td>\n",
       "      <td>Theory of Everything, The, 2014</td>\n",
       "      <td>Великобритания, Япония</td>\n",
       "      <td>биография, мелодрама</td>\n",
       "      <td>8.0</td>\n",
       "    </tr>\n",
       "    <tr>\n",
       "      <th>246</th>\n",
       "      <td>https://www.kinopoisk.ru//film/634254/</td>\n",
       "      <td>Ип Ман 4</td>\n",
       "      <td>Yip Man 4, 2019</td>\n",
       "      <td>Гонконг, Китай</td>\n",
       "      <td>боевик, биография</td>\n",
       "      <td>8.0</td>\n",
       "    </tr>\n",
       "    <tr>\n",
       "      <th>247</th>\n",
       "      <td>https://www.kinopoisk.ru//film/316/</td>\n",
       "      <td>Матрица: Революция</td>\n",
       "      <td>Matrix Revolutions, The, 2003</td>\n",
       "      <td>США</td>\n",
       "      <td>фантастика, боевик</td>\n",
       "      <td>8.0</td>\n",
       "    </tr>\n",
       "    <tr>\n",
       "      <th>248</th>\n",
       "      <td>https://www.kinopoisk.ru//film/493208/</td>\n",
       "      <td>Холодное сердце</td>\n",
       "      <td>Frozen, 2013</td>\n",
       "      <td>США, Норвегия</td>\n",
       "      <td>мультфильм, мюзикл</td>\n",
       "      <td>8.0</td>\n",
       "    </tr>\n",
       "    <tr>\n",
       "      <th>249</th>\n",
       "      <td>https://www.kinopoisk.ru//film/472/</td>\n",
       "      <td>Индиана Джонс и последний крестовый поход</td>\n",
       "      <td>Indiana Jones and the Last Crusade, 1989</td>\n",
       "      <td>США</td>\n",
       "      <td>приключения, боевик</td>\n",
       "      <td>8.0</td>\n",
       "    </tr>\n",
       "  </tbody>\n",
       "</table>\n",
       "<p>250 rows × 6 columns</p>\n",
       "</div>"
      ],
      "text/plain": [
       "                                     Ссылка  \\\n",
       "0       https://www.kinopoisk.ru//film/435/   \n",
       "1       https://www.kinopoisk.ru//film/326/   \n",
       "2      https://www.kinopoisk.ru//film/3498/   \n",
       "3       https://www.kinopoisk.ru//film/312/   \n",
       "4       https://www.kinopoisk.ru//film/328/   \n",
       "..                                      ...   \n",
       "245  https://www.kinopoisk.ru//film/770973/   \n",
       "246  https://www.kinopoisk.ru//film/634254/   \n",
       "247     https://www.kinopoisk.ru//film/316/   \n",
       "248  https://www.kinopoisk.ru//film/493208/   \n",
       "249     https://www.kinopoisk.ru//film/472/   \n",
       "\n",
       "                              Русское название  \\\n",
       "0                                 Зеленая миля   \n",
       "1                            Побег из Шоушенка   \n",
       "2          Властелин колец: Возвращение короля   \n",
       "3                Властелин колец: Две крепости   \n",
       "4             Властелин колец: Братство Кольца   \n",
       "..                                         ...   \n",
       "245                  Вселенная Стивена Хокинга   \n",
       "246                                   Ип Ман 4   \n",
       "247                         Матрица: Революция   \n",
       "248                            Холодное сердце   \n",
       "249  Индиана Джонс и последний крестовый поход   \n",
       "\n",
       "                            Оригинальное название, год  \\\n",
       "0                                Green Mile, The, 1999   \n",
       "1                      Shawshank Redemption, The, 1994   \n",
       "2    Lord of the Rings: The Return of the King, The...   \n",
       "3         Lord of the Rings: The Two Towers, The, 2002   \n",
       "4    Lord of the Rings: The Fellowship of the Ring,...   \n",
       "..                                                 ...   \n",
       "245                    Theory of Everything, The, 2014   \n",
       "246                                    Yip Man 4, 2019   \n",
       "247                      Matrix Revolutions, The, 2003   \n",
       "248                                       Frozen, 2013   \n",
       "249           Indiana Jones and the Last Crusade, 1989   \n",
       "\n",
       "                     Страна                  Жанр Рейтинг  \n",
       "0                       США        фэнтези, драма     8.9  \n",
       "1                       США                 драма     8.9  \n",
       "2       Новая Зеландия, США  фэнтези, приключения     8.8  \n",
       "3       Новая Зеландия, США  фэнтези, приключения     8.8  \n",
       "4       Новая Зеландия, США  фэнтези, приключения     8.8  \n",
       "..                      ...                   ...     ...  \n",
       "245  Великобритания, Япония  биография, мелодрама     8.0  \n",
       "246          Гонконг, Китай     боевик, биография     8.0  \n",
       "247                     США    фантастика, боевик     8.0  \n",
       "248           США, Норвегия    мультфильм, мюзикл     8.0  \n",
       "249                     США   приключения, боевик     8.0  \n",
       "\n",
       "[250 rows x 6 columns]"
      ]
     },
     "execution_count": 17,
     "metadata": {},
     "output_type": "execute_result"
    }
   ],
   "source": [
    "#Сейчас библиотека нам нужна, чтобы создать и сохранить таблицу.\n",
    "header = ['Ссылка', 'Русское название', 'Оригинальное название, год', 'Страна', 'Жанр', 'Рейтинг']\n",
    "\n",
    "df = pd.DataFrame(data, columns=header)\n",
    "df.to_csv('/Users/ok_computer/Downloads/kinopoisk_top250.csv', sep=';', encoding='utf8')\n",
    "df"
   ]
  },
  {
   "cell_type": "code",
   "execution_count": null,
   "id": "49731d2c",
   "metadata": {},
   "outputs": [],
   "source": []
  }
 ],
 "metadata": {
  "kernelspec": {
   "display_name": "Python 3",
   "language": "python",
   "name": "python3"
  },
  "language_info": {
   "codemirror_mode": {
    "name": "ipython",
    "version": 3
   },
   "file_extension": ".py",
   "mimetype": "text/x-python",
   "name": "python",
   "nbconvert_exporter": "python",
   "pygments_lexer": "ipython3",
   "version": "3.8.8"
  }
 },
 "nbformat": 4,
 "nbformat_minor": 5
}
